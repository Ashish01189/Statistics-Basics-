{
  "metadata": {
    "kernelspec": {
      "name": "python",
      "display_name": "Python (Pyodide)",
      "language": "python"
    },
    "language_info": {
      "codemirror_mode": {
        "name": "python",
        "version": 3
      },
      "file_extension": ".py",
      "mimetype": "text/x-python",
      "name": "python",
      "nbconvert_exporter": "python",
      "pygments_lexer": "ipython3",
      "version": "3.8"
    }
  },
  "nbformat_minor": 5,
  "nbformat": 4,
  "cells": [
    {
      "id": "a4581eda-5e9a-47b4-9797-e5d181051fe3",
      "cell_type": "markdown",
      "source": "# Statistics Basics Assingnment \n",
      "metadata": {}
    },
    {
      "id": "c6a0fc6d-4295-4ded-b813-d61a269d0132",
      "cell_type": "code",
      "source": "# 1. Explain the different types of data (qualitative and quantitaive) and provide examples of each. Discuss nominal, ordinal, interval, and ratio scales.\n    # Types of Data: Qualitative vs Quantitative\n\n# 1. Qualitative Data (Categorical)\n    # Definition: Describes qualities or characteristics.\n    # Not numerical—cannot be measured, only observed or categorized.\n\n# Examples:\n    # Colors: Red, Blue, Green\n    # Gender: Male, Female, Other\n    # Eye color: Brown, Blue\n    # Brands: Nike, Adidas\n    # Blood type: A, B, AB, O\n\n# 2. Quantitative Data (Numerical)\n    # Definition: Represents numeric values or quantities.\n    # Can be measured and used in calculations.\n\n# Examples:\n    # Height: 170 cm\n    # Age: 25 years\n    # Temperature: 98.6°F\n    # Income: $50,000\n    # Number of students: 30\n\n# Scales of Measurement\n    # There are four levels of measurement, and each level tells you how you can use and interpret the data:\n\n# 1. Nominal Scale (Qualitative)\n    # Definition: Data is labeled or named. No order or ranking.\n    # Only used for categorization.\n\n# Examples:\n    # Gender (Male, Female)\n    # Blood Type (A, B, AB, O)\n    # Hair Color (Black, Blonde, Brown)\n        # We can't say \"Black\" is more than \"Blonde\"—they're just labels.\n\n# 2. Ordinal Scale (Qualitative)\n    # Definition: Data is categorized with a meaningful order, but differences between ranks are not measurable.\n\n# Examples:\n    # Movie ratings (Poor, Average, Good, Excellent)\n    # Education level (High School < Bachelor's < Master's < PhD)\n    # Pain levels (Mild, Moderate, Severe)\n        # We know one is more than another, but not how much more.\n\n# 3. Interval Scale (Quantitative)\n    # Definition: Ordered data with equal intervals, but no true zero point.\n\n# Examples:\n    # Temperature in Celsius or Fahrenheit\n    # IQ scores\n    # Dates on a calendar\n        # 0°C doesn't mean \"no temperature\"—just a point on the scale.\n\n# 4. Ratio Scale (Quantitative)\n    # Definition: All features of interval scale, plus a true zero point. You can multiply, divide, and make full mathematical comparisons.\n\n# Examples:\n    # Height, Weight\n    # Income\n    # Age\n    # Speed\n    # Number of kids\n        # If someone earns $100 and another earns $50, the first earns twice as much.",
      "metadata": {
        "trusted": true
      },
      "outputs": [],
      "execution_count": null
    },
    {
      "id": "d1fa8764-370f-4dff-8acc-15984d27719d",
      "cell_type": "code",
      "source": "# 2. What are the measures of central tendency, and when should you use each? Discuss the mean, median, and mode, with example and situation where each is appropriate.\n    # Measures of central tendency are statistical tools used to identify the center or typical value in a set of data. The three main measures are mean, median, and mode. Each is useful depending on the nature of the data and what you're trying to understand.\n\n# 1. Mean (Average)\n# The mean is what most people think of as the \"average.\" You find it by adding up all the numbers in a set and then dividing by how many numbers there are.\n\n# Example:\n# If a student scores 80, 85, 90, 95, and 100 on five tests, the mean is:\n# Add all the scores: 80 + 85 + 90 + 95 + 100 = 450\n# Divide by the number of scores, which is 5:\n# 450 divided by 5 equals 90\n# So, the mean is 90.\n\n# When to use it:\n    # Use the mean when the data is evenly spread out, without any extreme high or low values.\n    # It's great for test scores, average heights, or temperatures — anything numerical and balanced.\n\n# 2. Median\n    # The median is the middle number when you put all the numbers in order. If there’s an odd number of values, it's the one right in the center. If there’s an even number, it’s the average of the two middle numbers.\n\n# Example:\n# Let’s say you’re looking at house prices: 150,000; 200,000; 250,000; 800,000; 1,000,000.\n# Put them in order (already done here), and pick the middle one: 250,000.\n# So the median is 250,000.\n\n# When to use it:\n    # Use the median when the data is skewed or has outliers (extremely high or low values).\n    # It's common in reporting things like median income or median rent, because a few very high numbers won’t distort the picture.\n\n# 3. Mode\n    # The mode is the number or category that appears the most often.\n\n# Example:\n# If a survey shows people’s favorite ice cream flavors are: Chocolate, Vanilla, Chocolate, Strawberry, Chocolate —\n# The most frequent answer is Chocolate, so that's the mode.\n\n# When to use it:\n    # Use the mode when you want to know what happens the most\n    # It's especially useful for categorical data, like favorite color, shoe size, or most popular product.",
      "metadata": {
        "trusted": true
      },
      "outputs": [],
      "execution_count": null
    },
    {
      "id": "37abab2b-8835-42cb-b2e6-9b1b313d4fb3",
      "cell_type": "code",
      "source": "# 3. Explain the concept of dispersion. How do variance and standard deviation measure the spread of data?\n    # Dispersion refers to how spread out or scattered the values in a data set are. It tells you how much the data varies from the center (like the mean or median).\n        # If the values are close together, the dispersion is low.\n        # If the values are far apart, the dispersion is high.\n\n# Dispersion helps us understand the reliability and consistency of the data. Two data sets can have the same average but very different spreads.\n\n# Two Key Measures of Dispersion:\n\n# 1. Variance\n    # Variance measures how far each number in the set is from the mean. It gives an idea of the average squared difference from the mean.\n\n# In simple terms:\n    # Find the mean.\n    # For each value, find the difference between the value and the mean.\n    # Square each difference (so negatives don’t cancel out).\n    # Find the average of those squared differences.\n\n# Why we square the differences:\n    # To keep all values positive and emphasize larger differences.\n\n# Example (conceptually):\n    # If test scores vary widely (some very high, some very low), the variance will be large. If all students score close to the average, the variance will be small.\n\n# 2. Standard Deviation\n    # Standard deviation is the square root of the variance. It shows the average distance of each data point from the mean — but in the same units as the original data.\n\n# In simple terms:\n    # It tells you how much, on average, values differ from the mean.\n    # A small standard deviation = values are close to the mean.\n    # A large standard deviation = values are spread out.\n\n# Example:\n    # Let’s say the mean score on a test is 70:\n    # If most students scored between 68 and 72, the standard deviation is small.\n    # If scores range from 40 to 100, the standard deviation is large.\n\n# Why It Matters:\n    # Business: Helps assess risk (e.g., how much sales vary month to month).\n    # Education: See how consistent student scores are.\n    # Science: Understand the reliability of experiment results.",
      "metadata": {
        "trusted": true
      },
      "outputs": [],
      "execution_count": null
    },
    {
      "id": "d8bedb8e-1684-4f7c-ba39-7467b8e8b0b1",
      "cell_type": "code",
      "source": "# 4. What is a box plot, and what can it tell you about the distribution of data?\n    # Great question! A box plot (also called a box-and-whisker plot) is a visual tool used to show the distribution, spread, and outliers in a set of data. It helps you quickly understand how the data is spread out and whether it's skewed or symmetrical.\n\n# What Does a Box Plot Show?\n    # A box plot is based on five summary statistics, known as the five-number summary:\n\n# 1. Minimum – the smallest value (not including outliers)\n# 2. First Quartile (Q1) – 25% of the data is below this point\n# 3. Median (Q2) – the middle value (50% of the data is below this)\n# 4. Third Quartile (Q3) – 75% of the data is below this point\n# 5. Maximum – the largest value (not including outliers)\n\n# Parts of a Box Plot\n    # The box: represents the middle 50% of the data (from Q1 to Q3) — this is called the interquartile range (IQR).\n    # The line inside the box: the median.\n    # The \"whiskers\": lines that extend to the smallest and largest values within a certain range (usually 1.5 × IQR from Q1 and Q3).\n    # Dots outside the whiskers: outliers.\n\n# What Can a Box Plot Tell Us?\n    # Spread: How spread out the data is.\n    # Center: Where the middle of the data lies (median).\n    # Skewness:\n        # If the median is closer to the bottom of the box, data is right-skewed (more high values).\n        # If the median is closer to the top of the box, it's left-skewed.\n    # Outliers: Unusually high or low values.\n    # Symmetry: If the median is in the center and whiskers are equal, the data is likely symmetrical.\n\n# Example Use Case\n# Let’s say you have test scores for a class:\n    #  A box plot could quickly show whether most students scored similarly or if there were a few unusually low or high scores.\n    # It also shows if scores are bunched up near the top, bottom, or evenly spread.",
      "metadata": {
        "trusted": true
      },
      "outputs": [],
      "execution_count": null
    },
    {
      "id": "123c1a51-fb4d-479d-8ea4-8aaf69a54582",
      "cell_type": "code",
      "source": "# 5. Discuss the role of random sampling in making inferences about populations.\n    # Random sampling is a method of selecting a sample from a larger population in such a way that every individual has an equal chance of being chosen. This helps ensure that the sample represents the population fairly and accurately.\n\n# Why Is It Important for Making Inferences?\n    # When you collect data, you usually can’t study an entire population (too big, too expensive, too time-consuming). Instead, you collect data from a sample and then try to make conclusions — or inferences — about the whole population.\n    # This is where random sampling comes in. If your sample is random, your inferences are more likely to be:\n        # Accurate\n        # Unbiased\n        # Generalizable\n\n# How Random Sampling Supports Inference\n    # 1. Reduces Bias\n        # Random sampling avoids selection bias — when certain individuals are more or less likely to be chosen.\n\n    # 2. Makes Results More Reliable\n        # A random sample is likely to reflect the true characteristics of the population (like average income, opinion, or behavior).\n\n    # 3. Allows Use of Probability\n        # Since the sample is random, we can apply probability theory to calculate things like:\n            # 1. Confidence intervals\n            # 2. Margin of error\n            # 3. Statistical significance\n\n# This means we can say things like, “We are 95% confident the true average lies between these two values.”\n\n# Example\n    # Suppose a university wants to know the average number of hours students study per week.\n        # Random Sampling: They randomly pick 200 students out of 5,000.\n        # The results show an average of 15 hours/week.\n        # Because the sample is random, the university can confidently infer that the average for the entire student body is around 15 hours, with some margin of error.\n\n# What Happens Without Random Sampling?\n    # Results may be biased.\n    # You might overrepresent or underrepresent certain groups.\n    # Any conclusions drawn may not apply to the whole population.\n    # For example, if you only survey honors students, the average study time will likely be much higher than for the general student population.",
      "metadata": {
        "trusted": true
      },
      "outputs": [],
      "execution_count": null
    },
    {
      "id": "6f28616c-e3fb-4ac8-8079-c4d40ffcf242",
      "cell_type": "code",
      "source": "# 6. Explain the concept of dispersion. How do variance and standard deviation meansure the spread of data?\n    # Dispersion refers to the extent to which data values vary or spread out from the center (usually the mean or median). It helps us understand how consistent or varied the data is.\n        # If all data points are close to each other, dispersion is low.\n        # If data points are spread far apart, dispersion is high.\n\n# How Do Variance and Standard Deviation Measure Dispersion?\n    # These two are the most common ways to measure how spread out the values in a data set are:\n\n# 1. Variance\n    # Variance tells us the average of the squared differences from the mean. It shows how much the values differ from the mean on average, but the result is in squared units.\n\n# Steps to understand it:\n    # Find the mean (average) of the data.\n    # Subtract the mean from each value (this gives you the \"deviation\").\n    # Square each deviation.\n    # Find the average of those squared deviations.\n\n# What it tells Us:\n    # A large variance means the numbers are more spread out. A small variance means they are closer to the mean.\n\n# 2. Standard Deviation\n    # Standard deviation is the square root of the variance. This means it brings the value back to the original units (not squared units), making it easier to interpret.\n\n# What it tells Us:\n    # A small standard deviation means most data points are close to the mean.\n    # A large standard deviation means data points are widely spread out.\n\n# Example (Conceptual):\n    # Let’s say two students track how many hours they study each day for a week:\n    # Student A: 3, 3, 3, 3, 3, 3, 3 → Mean = 3 → Low variance and standard deviation\n    # Student B: 1, 2, 3, 4, 5, 6, 7 → Mean = 4 → High variance and standard deviation\n    # Even though the average study time is similar, Student B has more variation, and dispersion is higher.",
      "metadata": {
        "trusted": true
      },
      "outputs": [],
      "execution_count": null
    },
    {
      "id": "633661cb-caee-4d5f-98cc-2f4e4a0b2fb1",
      "cell_type": "code",
      "source": "# 7. What is the interquartile range (IQR), and how is it used to detect outliers?\n    # The Interquartile Range (IQR) is a measure of spread that shows the range where the middle 50% of the data lies.\n    # It is calculated by subtracting:\n\n# IQR=Q3−Q1\n    # Q1 (First Quartile) is the value that separates the lowest 25% of the data.\n    # Q3 (Third Quartile) is the value that separates the lowest 75% of the data.\n# So, the IQR is the range between the 25th percentile and the 75th percentile.\n\n# What Does IQR Tell Us?\n    # It focuses on the central portion of the data.\n    # It ignores extreme values (outliers), making it a robust measure of spread.\n    # It tells us how spread out the middle half of the data is.\n\n# How Is IQR Used to Detect Outliers?\n    # Outliers are values that are much higher or lower than most of the other values. We use IQR to flag these unusual points.\n    # Rule for Detecting Outliers:\n    # A value is considered an outlier if it is:\n        # Below: Q1 − 1.5 × IQR\n        # Above: Q3 + 1.5 × IQR\n    # Any value outside this range is considered a potential outlier.\n\n# Example\n    # Let’s say we have this sorted data set:\n    # 5, 7, 8, 12, 13, 14, 18, 21, 24\n        # Q1 (25th percentile) = 8\n        # Q3 (75th percentile) = 21\n        # IQR = 21 − 8 = 13\n    # Now use the 1.5 × IQR rule:\n        # Lower limit = 8 − (1.5 × 13) = 8 − 19.5 = −11.5\n        # Upper limit = 21 + (1.5 × 13) = 21 + 19.5 = 40.5\n# So, any data below −11.5 or above 40.5 is considered an outlier. In this case, there are no outliers.\n\n# Why IQR is Useful\n    # It's not affected by extreme values.\n    # It works well with box plots (which are built around Q1, Q2, Q3, and IQR).\n    # It gives a clear picture of how concentrated or spread out the middle values are.",
      "metadata": {
        "trusted": true
      },
      "outputs": [],
      "execution_count": null
    },
    {
      "id": "c8e209ad-448f-4055-b9a3-fddd73c2fedf",
      "cell_type": "code",
      "source": "# 8. Discuss the conditions under which the binomial distribution is used?\n    # The binomial distribution is used when you're dealing with a specific kind of probability experiment known as a binomial experiment. For the binomial distribution to be applicable, the following conditions must be met:\n\n# 1. Fixed Number of Trials (n):\n# There must be a predetermined number of trials or experiments.\n    # Example: Flipping a coin 10 times (n = 10).\n\n# 2. Only Two Possible Outcomes:\n# Each trial results in one of two outcomes — commonly labeled as \"success\" or \"failure\".\n    # Example: In a coin toss, heads might be \"success,\" and tails \"failure.\"\n\n# 3. Constant Probability of Success (p):\n# The probability of success must remain the same for each trial.\n    # Example: If you're rolling a die and consider rolling a 6 as \"success,\" then p = 1/6 every time.\n\n# 4. Independent Trials:\n# The outcome of one trial does not affect the outcome of another. The trials are independent.\n    # Example: Drawing a card with replacement from a deck keeps the probabilities the same.\n\n# Summary in Example:\n# If you're trying to calculate the probability of getting exactly 3 heads in 5 flips of a fair coin, that’s a classic binomial situation:\n    # Fixed number of trials (n = 5)\n    # Two outcomes (heads or tails)\n    # Constant p = 0.5\n    # Independent flips",
      "metadata": {
        "trusted": true
      },
      "outputs": [],
      "execution_count": null
    },
    {
      "id": "9462cb69-1a8c-4323-a067-faf2ca5508a9",
      "cell_type": "code",
      "source": "# 9. Explain the properties of the normal distribution and the empirical rule (68-95-99.7 rule).\n    # Properties of the Normal Distribution\n            # The normal distribution (also called the Gaussian distribution) is one of the most commonly used probability distributions in statistics. It has the following key properties:\n\n# 1. Bell-Shaped Curve\n    # The graph is symmetrical and shaped like a bell.\n    # The highest point is at the mean (μ), which is also the median and mode.\n\n# 2. Symmetry\n    # It’s perfectly symmetrical around the mean.\n    # This means the left and right halves are mirror images.\n\n# 3. Mean = Median = Mode\n    # All three measures of central tendency are equal and located at the center.\n\n# 4. Tails Extend Infinitely\n    # The curve approaches, but never touches, the horizontal axis.\n    # Technically, it extends to infinity in both directions.\n\n# 5. Spread Controlled by Standard Deviation (σ)\n    # A larger σ means a wider and flatter curve; a smaller σ gives a steeper curve.\n\n# The Empirical Rule (68-95-99.7 Rule)\n    # This rule helps describe how data is distributed in a normal distribution, based on standard deviations (σ) from the mean (μ):\n\n# 68% of data falls within 1 standard deviation\n    # From μ − σ to μ + σ\n    # Example: If μ = 100 and σ = 10, then 68% of values fall between 90 and 110\n\n# 95% of data falls within 2 standard deviations\n    # From μ − 2σ to μ + 2σ\n    # Example: Between 80 and 120\n\n# 99.7% of data falls within 3 standard deviations\n    # From μ − 3σ to μ + 3σ\n    # Example: Between 70 and 130",
      "metadata": {
        "trusted": true
      },
      "outputs": [],
      "execution_count": null
    },
    {
      "id": "036c991b-01ad-4f55-8274-ece3c0b44010",
      "cell_type": "code",
      "source": "# 10. Provide a real-life example of a Poisson process and calculate the probability for a specific event.\n    # Scenario:\n        # A hospital receives an average of 4 emergency calls per hour. The calls come randomly and independently — this fits the Poisson process.\n\n# tep-by-Step (Decimal Format Only)\n    # We’ll use the Poisson distribution formula, but only with decimal values:\n        # Average rate (λ) = 4\n        # Number of events (k) = 6\n        # 𝑒−4 ≈ 0.0183\n        # 4^6 = 4096\n        # 6! = 720\n        # 4096÷720 ≈ 5.6889\n        # 0.0183×5.6889 ≈ 0.1041\n# Final Answer:\n    # The probability of receiving exactly 6 emergency calls in one hour is approximately 0.1041, or 10.41%.",
      "metadata": {
        "trusted": true
      },
      "outputs": [],
      "execution_count": null
    },
    {
      "id": "8471cbd2-b768-4954-954f-66240111d66a",
      "cell_type": "code",
      "source": "# 11. Explain what a randam variable is and differentiate between discrete and continuous randam variable.\n    # What is a Random Variable?\n        # A random variable is a numerical outcome of a random phenomenon.\n        # It assigns a number to each possible outcome of a chance experiment.\n\n        # In simple terms:\n            # A random variable is a way to quantify uncertainty. It tells us the value we might get when we do something random — like rolling a die, flipping a coin, or measuring someone’s height.\n\n# Two Main Types of Random Variables:\n    # 1. Discrete Random Variable\n        # A discrete random variable can take on a countable number of distinct values.\n        # You can list all possible outcomes (even if the list is infinite, as long as it's countable).\n\n    # Examples:\n        # Number of heads in 3 coin tosses → 0, 1, 2, or 3\n        # Number of students in a class\n        # Rolling a die → 1, 2, 3, 4, 5, or 6\n\n        # Key Points:\n            # Takes whole numbers (integers)\n            # Often used for counting\n\n    # 2. Continuous Random Variable\n        # A continuous random variable can take on any value within a given range.\n        # It has infinite possible values — even between two numbers.\n\n    # Examples:\n        # Height of a person (e.g., 165.4 cm, 165.41 cm…)\n        # Time it takes to run a race\n        # Temperature on a given day\n\n    # Key Points:\n        # Takes decimal or fractional values\n        # Often used for measuring",
      "metadata": {
        "trusted": true
      },
      "outputs": [],
      "execution_count": null
    },
    {
      "id": "3f0b50d8-b7f2-4eb6-934b-6cafce492a9b",
      "cell_type": "code",
      "source": "# 12. Provide an example dataset, calculate both covariance and correlation, and interpret the result.\n    # Example: Covariance and Correlation Calculation\n        # We have data from 5 students showing hours studied and their corresponding exam scores:\n            # Student A: 2 hours, 65 marks\n            # Student B: 4 hours, 70 marks\n            # Student C: 6 hours, 75 marks\n            # Student D: 8 hours, 85 marks\n            # Student E: 10 hours, 95 marks\n\n    # Step 1: Calculate the Mean\n        # Add all the values:\n            # Total hours = 2 + 4 + 6 + 8 + 10 = 30\n            # Mean hours = 30 ÷ 5 = 6\n            # Total scores = 65 + 70 + 75 + 85 + 95 = 390\n            # Mean score = 390 ÷ 5 = 78\n\n    # Step 2: Find Deviations and Products\n        # For each student, subtract the mean and multiply the differences:\n            # Student A: (2 − 6) = −4, (65 − 78) = −13 → product = −4 × −13 = 52\n            # Student B: (4 − 6) = −2, (70 − 78) = −8 → product = −2 × −8 = 16\n            # Student C: (6 − 6) = 0, (75 − 78) = −3 → product = 0 × −3 = 0\n            # Student D: (8 − 6) = 2, (85 − 78) = 7 → product = 2 × 7 = 14\n            # Student E: (10 − 6) = 4, (95 − 78) = 17 → product = 4 × 17 = 68\n\n            # Now add up all the products:\n            # 52 + 16 + 0 + 14 + 68 = 150\n\n    # Step 3: Calculate Covariance\n        # Divide the total by 5 (number of students):\n        # 150 ÷ 5 = 30\n        # So, Covariance = 30\n\n    # Step 4: Calculate Standard Deviations\n        # For hours studied:\n            # Differences from mean: −4, −2, 0, 2, 4\n            # Squares: 16, 4, 0, 4, 16 → total = 40\n            # Variance = 40 ÷ 5 = 8\n            # Standard deviation = √8 ≈ 2.828\n\n    # For exam scores:\n            # Differences from mean: −13, −8, −3, 7, 17\n            # Squares: 169, 64, 9, 49, 289 → total = 580\n            # Variance = 580 ÷ 5 = 116\n            # Standard deviation = √116 ≈ 10.770\n\n    # Step 5: Calculate Correlation\n        # Correlation = Covariance ÷ (Standard deviation of X × Standard deviation of Y)\n        # = 30 ÷ (2.828 × 10.770)\n        # = 30 ÷ 30.443\n        # ≈ 0.985\n\n    # Final Interpretation:\n        # Covariance = 30 → There's a positive relationship between hours studied and exam scores.\n        # Correlation ≈ 0.985 → This is a very strong positive correlation, meaning the more a student studies, the higher their score tends to be.",
      "metadata": {
        "trusted": true
      },
      "outputs": [],
      "execution_count": null
    }
  ]
}